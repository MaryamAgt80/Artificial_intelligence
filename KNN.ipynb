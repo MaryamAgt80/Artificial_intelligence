{
 "cells": [
  {
   "cell_type": "code",
   "execution_count": 45,
   "id": "a13e4a3e",
   "metadata": {},
   "outputs": [],
   "source": [
    "#62 KNN\n",
    "import pandas as pd\n",
    "import numpy as np\n",
    "movies_data=pd.read_csv('userbase_data/movies_data.txt',sep='\\t',names=['user_id','movi_id','rating'],usecols=range(3))"
   ]
  },
  {
   "cell_type": "code",
   "execution_count": 37,
   "id": "614e221a",
   "metadata": {},
   "outputs": [],
   "source": [
    "movigroup=movies_data.groupby('movi_id').agg({\"rating\":[np.size,np.mean]})\n",
    "RatingMax=movigroup['rating']['mean'].max()\n",
    "RatingMin=movigroup['rating']['mean'].min()\n",
    "SizeMax=movigroup['rating']['size'].max()\n",
    "SizeMin=movigroup['rating']['size'].min()"
   ]
  },
  {
   "cell_type": "code",
   "execution_count": 39,
   "id": "eb7b6e7a",
   "metadata": {},
   "outputs": [],
   "source": [
    "dfMovi=pd.DataFrame(movigroup['rating']['size'])\n",
    "applymovi=dfMovi.apply(lambda x:(x-SizeMin)/(SizeMax-SizeMin))"
   ]
  },
  {
   "cell_type": "code",
   "execution_count": 31,
   "id": "9db774a5",
   "metadata": {
    "scrolled": true
   },
   "outputs": [],
   "source": [
    "#practice 62 KNN\n",
    "# import pandas as pd\n",
    "# import numpy as np\n",
    "# list_columns=['movi_id','movi_name','year_construction','link']\n",
    "# for i in range(19):\n",
    "#     list_columns.append('gener'+str(i+1))\n",
    "# print( list_columns)   \n",
    "# AllMovies=pd.read_csv('userbase_data/movies_item.txt',sep='|',names= list_columns,usecols=range(23))\n",
    "\n",
    "# AllMovies.head(20)"
   ]
  },
  {
   "cell_type": "code",
   "execution_count": 44,
   "id": "b0bbd844",
   "metadata": {},
   "outputs": [
    {
     "data": {
      "text/plain": [
       "0.42264973081037427"
      ]
     },
     "execution_count": 44,
     "metadata": {},
     "output_type": "execute_result"
    }
   ],
   "source": [
    "#63 KNN \n",
    "from scipy.spatial import distance\n",
    "dicMovies={}\n",
    "with open(\"userbase_data/movies_item.txt\") as my_file:\n",
    "    for line in my_file:\n",
    "        items=line.rstrip('\\n').split('|')\n",
    "        id_movi=int(items[0])\n",
    "        list_genre=[int(x) for x in items[5:25]]\n",
    "        size=applymovi['size'].loc[id_movi]\n",
    "        dicMovies[id_movi]=(items[1],list_genre,applymovi['size'].loc[id_movi],movigroup['rating']['mean'].loc[id_movi])\n",
    "\n",
    " #64 KNN       \n",
    "def distanse_movies(movies_one,movies_two):\n",
    "    moviegenre_one=movies_one[1]\n",
    "    moviegenre_two=movies_two[1]\n",
    "    distanse_genre=distance.cosine(moviegenre_one,moviegenre_two)\n",
    "    distanse_size=abs(int(movies_one[2])-int(movies_two[2]))\n",
    "    return distanse_size + distanse_genre"
   ]
  },
  {
   "cell_type": "code",
   "execution_count": 43,
   "id": "c3fbdaa2",
   "metadata": {},
   "outputs": [],
   "source": [
    "#65 KNN\n",
    "from operator import itemgetter\n",
    "def nearset_neighboor(movi_id,k):\n",
    "    dict_distance=[]\n",
    "    for key_movi in dicMovies:\n",
    "        if movi_id != key_movi :\n",
    "            dis_movi=distanse_movies(dicMovies[key_movi],dicMovies[movi_id])\n",
    "            dict_distance.append({'key':key_movi,'distance':dis_movi})\n",
    "    dict_distance=sorted(dict_distance,key=itemgetter('distance'), reverse=False)   \n",
    "    dict_distance=dict_distance[0:k]\n",
    "    list_key=[]\n",
    "    for dicti in dict_distance:\n",
    "        list_key.append(dicti['key'])\n",
    "    return list_key\n",
    "\n"
   ]
  },
  {
   "cell_type": "code",
   "execution_count": 42,
   "id": "ddaf8668",
   "metadata": {},
   "outputs": [
    {
     "name": "stdout",
     "output_type": "stream",
     "text": [
      "Aladdin and the King of Thieves (1996)\n",
      "Good Morning (1971)\n",
      "Aladdin (1992)\n",
      "Goofy Movie, A (1995)\n",
      "Santa Clause, The (1994)\n",
      "Home Alone (1990)\n",
      "Aristocats, The (1970)\n",
      "D3: The Mighty Ducks (1996)\n",
      "Love Bug, The (1969)\n",
      "Wrong Trousers, The (1993)\n"
     ]
    },
    {
     "name": "stderr",
     "output_type": "stream",
     "text": [
      "C:\\ProgramData\\anaconda3\\lib\\site-packages\\scipy\\spatial\\distance.py:622: RuntimeWarning: invalid value encountered in double_scalars\n",
      "  dist = 1.0 - uv / np.sqrt(uu * vv)\n"
     ]
    }
   ],
   "source": [
    "#66 KNN\n",
    "sum=0\n",
    "for id_movi in nearset_neighboor(1,10):\n",
    "   #sum+=movigroup['rating']['mean'].loc[id_movi]\n",
    "    sum+=dicMovies[id_movi][3]\n",
    "    print(dicMovies[id_movi][0])\n",
    "sum=sum/float(10)\n",
    "\n"
   ]
  },
  {
   "cell_type": "code",
   "execution_count": null,
   "id": "e4e11445",
   "metadata": {},
   "outputs": [],
   "source": []
  }
 ],
 "metadata": {
  "kernelspec": {
   "display_name": "Python 3 (ipykernel)",
   "language": "python",
   "name": "python3"
  },
  "language_info": {
   "codemirror_mode": {
    "name": "ipython",
    "version": 3
   },
   "file_extension": ".py",
   "mimetype": "text/x-python",
   "name": "python",
   "nbconvert_exporter": "python",
   "pygments_lexer": "ipython3",
   "version": "3.10.9"
  }
 },
 "nbformat": 4,
 "nbformat_minor": 5
}
