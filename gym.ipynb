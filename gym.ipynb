{
 "cells": [
  {
   "cell_type": "code",
   "execution_count": 3,
   "id": "b7b3e03d",
   "metadata": {},
   "outputs": [],
   "source": [
    "#73 gym\n",
    "import gym \n",
    "import random\n",
    "random.seed(1234)\n",
    "streets=gym.make('Taxi-v3',render_mode='human').env\n",
    "streets.reset()\n",
    "#streets.disable_render_order_enforcing=True\n",
    "streets.render()\n"
   ]
  },
  {
   "cell_type": "code",
   "execution_count": 4,
   "id": "5684db4f",
   "metadata": {},
   "outputs": [],
   "source": [
    "initial_state=streets.encode(0,0,1,3)\n",
    "streets.s=initial_state\n",
    "streets.reset()\n",
    "streets.render()"
   ]
  },
  {
   "cell_type": "code",
   "execution_count": null,
   "id": "5bf3604c",
   "metadata": {},
   "outputs": [],
   "source": []
  }
 ],
 "metadata": {
  "kernelspec": {
   "display_name": "Python 3 (ipykernel)",
   "language": "python",
   "name": "python3"
  },
  "language_info": {
   "codemirror_mode": {
    "name": "ipython",
    "version": 3
   },
   "file_extension": ".py",
   "mimetype": "text/x-python",
   "name": "python",
   "nbconvert_exporter": "python",
   "pygments_lexer": "ipython3",
   "version": "3.10.9"
  }
 },
 "nbformat": 4,
 "nbformat_minor": 5
}
