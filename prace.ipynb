{
 "cells": [
  {
   "cell_type": "code",
   "execution_count": 1,
   "id": "ef296dab",
   "metadata": {},
   "outputs": [
    {
     "data": {
      "image/png": "[encoded data removed]",
      "text/plain": [
       "<Figure size 640x480 with 1 Axes>"
      ]
     },
     "metadata": {},
     "output_type": "display_data"
    }
   ],
   "source": [
    "%matplotlib inline\n",
    "import numpy as np \n",
    "import matplotlib as mp\n",
    "numbers=np.random.normal(25000,1000,2000)\n",
    "import matplotlib.pyplot as plot\n",
    "plot.hist(numbers,20)\n",
    "plot.show()\n"
   ]
  },
  {
   "cell_type": "code",
   "execution_count": 2,
   "id": "7115a57b",
   "metadata": {},
   "outputs": [
    {
     "data": {
      "text/plain": [
       "24963.338424016474"
      ]
     },
     "execution_count": 2,
     "metadata": {},
     "output_type": "execute_result"
    }
   ],
   "source": [
    "np.median(numbers)"
   ]
  },
  {
   "cell_type": "code",
   "execution_count": 4,
   "id": "dfef16f7",
   "metadata": {},
   "outputs": [
    {
     "data": {
      "text/plain": [
       "1041408.3692873478"
      ]
     },
     "execution_count": 4,
     "metadata": {},
     "output_type": "execute_result"
    }
   ],
   "source": [
    "numbers.std()\n",
    "numbers.var()\n",
    "\n"
   ]
  },
  {
   "cell_type": "code",
   "execution_count": 13,
   "id": "fa06a4aa",
   "metadata": {},
   "outputs": [],
   "source": [
    "ages=np.random.randint(10,high=78,size=500)"
   ]
  },
  {
   "cell_type": "code",
   "execution_count": 14,
   "id": "eb0de364",
   "metadata": {},
   "outputs": [
    {
     "data": {
      "text/plain": [
       "array([20, 74, 29, 63, 65, 17, 24, 39, 43, 72, 33, 45, 17, 57, 32, 42, 49,\n",
       "       67, 15, 77, 42, 68, 47, 59, 68, 35, 26, 62, 31, 27, 74, 45, 20, 13,\n",
       "       25, 24, 63, 30, 36, 70, 32, 73, 66, 75, 69, 22, 55, 17, 18, 44, 61,\n",
       "       27, 58, 64, 12, 77, 15, 43, 64, 66, 51, 65, 77, 50, 21, 16, 67, 70,\n",
       "       10, 43, 35, 55, 18, 76, 32, 12, 12, 75, 34, 28, 35, 69, 74, 25, 36,\n",
       "       38, 76, 14, 33, 26, 39, 61, 44, 16, 63, 52, 53, 69, 19, 66, 26, 14,\n",
       "       47, 74, 31, 54, 39, 33, 13, 43, 18, 61, 17, 30, 45, 18, 39, 40, 64,\n",
       "       51, 38, 46, 64, 60, 19, 27, 54, 75, 70, 35, 13, 75, 71, 66, 15, 34,\n",
       "       64, 59, 61, 10, 69, 47, 29, 61, 75, 33, 18, 17, 47, 71, 44, 49, 66,\n",
       "       26, 55, 19, 51, 23, 33, 34, 14, 21, 58, 63, 59, 45, 58, 30, 47, 65,\n",
       "       42, 68, 67, 63, 29, 31, 61, 68, 63, 72, 27, 41, 24, 21, 73, 13, 46,\n",
       "       68, 39, 23, 46, 17, 66, 37, 18, 47, 33, 47, 70, 59, 45, 55, 53, 49,\n",
       "       44, 24, 72, 52, 25, 55, 45, 50, 61, 51, 41, 51, 15, 44, 63, 68, 37,\n",
       "       21, 64, 38, 60, 38, 68, 27, 59, 29, 30, 64, 59, 41, 68, 76, 67, 11,\n",
       "       51, 27, 45, 33, 48, 32, 11, 71, 56, 43, 77, 77, 13, 14, 52, 45, 51,\n",
       "       75, 39, 25, 45, 18, 11, 48, 15, 54, 32, 54, 28, 37, 62, 37, 52, 69,\n",
       "       23, 73, 15, 13, 25, 77, 69, 37, 39, 25, 55, 40, 33, 52, 30, 63, 39,\n",
       "       26, 16, 72, 64, 26, 52, 21, 42, 29, 34, 67, 40, 72, 52, 35, 69, 60,\n",
       "       56, 75, 76, 37, 20, 63, 72, 32, 60, 44, 18, 32, 70, 21, 15, 55, 13,\n",
       "       38, 13, 67, 49, 76, 61, 45, 30, 73, 71, 47, 54, 19, 68, 69, 34, 26,\n",
       "       28, 29, 74, 72, 19, 74, 46, 68, 50, 54, 25, 32, 57, 13, 16, 18, 34,\n",
       "       31, 23, 51, 36, 26, 52, 55, 56, 54, 65, 47, 30, 54, 51, 59, 35, 55,\n",
       "       49, 10, 65, 20, 36, 34, 39, 53, 43, 24, 40, 47, 58, 16, 72, 27, 40,\n",
       "       58, 53, 18, 16, 42, 63, 34, 17, 70, 30, 33, 46, 57, 23, 75, 32, 75,\n",
       "       31, 53, 49, 55, 66, 72, 77, 64, 57, 68, 26, 71, 18, 50, 42, 44, 46,\n",
       "       32, 11, 62, 61, 15, 22, 36, 39, 42, 32, 54, 39, 63, 62, 59, 56, 70,\n",
       "       13, 35, 43, 41, 53, 54, 23, 60, 63, 59, 46, 16, 64, 38, 26, 39, 49,\n",
       "       16, 49, 59, 14, 64, 55, 61, 17, 10, 50, 23, 73, 37, 61, 44, 51, 45,\n",
       "       30, 57, 66, 64, 49, 16, 54, 30, 51, 59, 53, 68, 53, 58, 53, 17, 76,\n",
       "       77, 19, 74, 58, 44, 22, 75])"
      ]
     },
     "execution_count": 14,
     "metadata": {},
     "output_type": "execute_result"
    }
   ],
   "source": [
    "ages"
   ]
  },
  {
   "cell_type": "code",
   "execution_count": 15,
   "id": "0c2c4ab4",
   "metadata": {},
   "outputs": [
    {
     "name": "stderr",
     "output_type": "stream",
     "text": [
      "C:\\Users\\Asus\\AppData\\Local\\Temp\\ipykernel_2124\\2994774060.py:2: FutureWarning: Unlike other reduction functions (e.g. `skew`, `kurtosis`), the default behavior of `mode` typically preserves the axis it acts along. In SciPy 1.11.0, this behavior will change: the default value of `keepdims` will become False, the `axis` over which the statistic is taken will be eliminated, and the value None will no longer be accepted. Set `keepdims` to True or False to avoid this warning.\n",
      "  stats.mode(ages)\n"
     ]
    },
    {
     "data": {
      "text/plain": [
       "ModeResult(mode=array([39]), count=array([12]))"
      ]
     },
     "execution_count": 15,
     "metadata": {},
     "output_type": "execute_result"
    }
   ],
   "source": [
    "from scipy import stats\n",
    "stats.mode(ages)"
   ]
  },
  {
   "cell_type": "code",
   "execution_count": null,
   "id": "8c578390",
   "metadata": {},
   "outputs": [],
   "source": []
  }
 ],
 "metadata": {
  "kernelspec": {
   "display_name": "Python 3 (ipykernel)",
   "language": "python",
   "name": "python3"
  },
  "language_info": {
   "codemirror_mode": {
    "name": "ipython",
    "version": 3
   },
   "file_extension": ".py",
   "mimetype": "text/x-python",
   "name": "python",
   "nbconvert_exporter": "python",
   "pygments_lexer": "ipython3",
   "version": "3.10.9"
  }
 },
 "nbformat": 4,
 "nbformat_minor": 5
}
