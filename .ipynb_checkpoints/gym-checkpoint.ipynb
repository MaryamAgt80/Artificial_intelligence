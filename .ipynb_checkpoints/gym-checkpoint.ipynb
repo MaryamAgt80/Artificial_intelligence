{
 "cells": [
  {
   "cell_type": "code",
   "execution_count": 18,
   "id": "b7b3e03d",
   "metadata": {},
   "outputs": [],
   "source": [
    "#73 gym\n",
    "import gym \n",
    "import random\n",
    "random.seed(1234)\n",
    "streets=gym.make('Taxi-v3',render_mode='human').env\n",
    "streets.reset()\n",
    "#streets.disable_render_order_enforcing=True\n",
    "streets.render()\n"
   ]
  },
  {
   "cell_type": "code",
   "execution_count": 17,
   "id": "5684db4f",
   "metadata": {},
   "outputs": [
    {
     "data": {
      "text/plain": [
       "{0: [(1.0, 100, -1, False)],\n",
       " 1: [(1.0, 0, -1, False)],\n",
       " 2: [(1.0, 20, -1, False)],\n",
       " 3: [(1.0, 0, -1, False)],\n",
       " 4: [(1.0, 16, -1, False)],\n",
       " 5: [(1.0, 0, -10, False)]}"
      ]
     },
     "execution_count": 17,
     "metadata": {},
     "output_type": "execute_result"
    }
   ],
   "source": [
    "streets.P[0]"
   ]
  },
  {
   "cell_type": "code",
   "execution_count": null,
   "id": "5bf3604c",
   "metadata": {},
   "outputs": [],
   "source": []
  }
 ],
 "metadata": {
  "kernelspec": {
   "display_name": "Python 3 (ipykernel)",
   "language": "python",
   "name": "python3"
  },
  "language_info": {
   "codemirror_mode": {
    "name": "ipython",
    "version": 3
   },
   "file_extension": ".py",
   "mimetype": "text/x-python",
   "name": "python",
   "nbconvert_exporter": "python",
   "pygments_lexer": "ipython3",
   "version": "3.10.9"
  }
 },
 "nbformat": 4,
 "nbformat_minor": 5
}
