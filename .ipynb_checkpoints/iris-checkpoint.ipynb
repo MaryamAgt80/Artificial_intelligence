{
 "cells": [
  {
   "cell_type": "code",
   "execution_count": 1,
   "id": "be596ba3",
   "metadata": {},
   "outputs": [
    {
     "name": "stdout",
     "output_type": "stream",
     "text": [
      "150 4\n",
      "['setosa' 'versicolor' 'virginica']\n"
     ]
    }
   ],
   "source": [
    "#68 iris : Array 150 * 4\n",
    "from sklearn.datasets import load_iris\n",
    "from sklearn.decomposition import PCA\n",
    "import pylab\n",
    "from itertools import cycle\n",
    "iris=load_iris()\n",
    "num_samples,num_features=iris.data.shape\n",
    "print(num_samples,num_features)\n",
    "print(iris.target_names)"
   ]
  },
  {
   "cell_type": "code",
   "execution_count": null,
   "id": "cb689d9d",
   "metadata": {},
   "outputs": [],
   "source": [
    "#69 performance of pca:sum(pca.explained_variance_ratio_)\n",
    "data=iris.data\n",
    "pca=PCA(n_components=2,whiten=True).fit(data)\n",
    "pca_trans=pca.transform(data)\n",
    "sum(pca.explained_variance_ratio_)\n",
    "colors=cycle('rgb')\n",
    "print(iris.target_names)\n",
    "# for item in colors:\n",
    "#     print(item)"
   ]
  },
  {
   "cell_type": "code",
   "execution_count": null,
   "id": "9d166a0d",
   "metadata": {},
   "outputs": [],
   "source": []
  }
 ],
 "metadata": {
  "kernelspec": {
   "display_name": "Python 3 (ipykernel)",
   "language": "python",
   "name": "python3"
  },
  "language_info": {
   "codemirror_mode": {
    "name": "ipython",
    "version": 3
   },
   "file_extension": ".py",
   "mimetype": "text/x-python",
   "name": "python",
   "nbconvert_exporter": "python",
   "pygments_lexer": "ipython3",
   "version": "3.10.9"
  }
 },
 "nbformat": 4,
 "nbformat_minor": 5
}
